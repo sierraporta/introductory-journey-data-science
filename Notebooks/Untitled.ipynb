{
 "cells": [
  {
   "cell_type": "code",
   "execution_count": 1,
   "id": "da5667c8-05cb-4508-bced-2d90c37b8033",
   "metadata": {},
   "outputs": [],
   "source": [
    "import numpy as np\n",
    "import math\n",
    "import random\n",
    "import pandas as pd\n",
    "import matplotlib.pyplot as plt"
   ]
  },
  {
   "cell_type": "code",
   "execution_count": 2,
   "id": "6c8ad39f-b074-475e-9222-2c1a85f56741",
   "metadata": {},
   "outputs": [],
   "source": [
    "def TrinidadAltura(l):\n",
    "    vector=np.zeros(l)\n",
    "    for i in range(l):\n",
    "        vector[i]=random.gauss(170,10)\n",
    "    return vector"
   ]
  },
  {
   "cell_type": "code",
   "execution_count": 65,
   "id": "cec1f8f2-edf3-4f57-978a-fd0b103f0c86",
   "metadata": {},
   "outputs": [],
   "source": [
    "def TrinidadRiqueza(l):\n",
    "    vector=np.zeros(l)\n",
    "    for i in range(l):\n",
    "        vector[i]=math.tan((2*random.random()-1)*math.pi/2)\n",
    "    return vector"
   ]
  },
  {
   "cell_type": "code",
   "execution_count": 70,
   "id": "22ff8061-397f-4bba-bfbf-4cf1e7b161d0",
   "metadata": {},
   "outputs": [
    {
     "data": {
      "text/html": [
       "<div>\n",
       "<style scoped>\n",
       "    .dataframe tbody tr th:only-of-type {\n",
       "        vertical-align: middle;\n",
       "    }\n",
       "\n",
       "    .dataframe tbody tr th {\n",
       "        vertical-align: top;\n",
       "    }\n",
       "\n",
       "    .dataframe thead th {\n",
       "        text-align: right;\n",
       "    }\n",
       "</style>\n",
       "<table border=\"1\" class=\"dataframe\">\n",
       "  <thead>\n",
       "    <tr style=\"text-align: right;\">\n",
       "      <th></th>\n",
       "      <th>Altura</th>\n",
       "      <th>Riqueza</th>\n",
       "    </tr>\n",
       "  </thead>\n",
       "  <tbody>\n",
       "    <tr>\n",
       "      <th>0</th>\n",
       "      <td>-0.553617</td>\n",
       "      <td>-2.926278</td>\n",
       "    </tr>\n",
       "    <tr>\n",
       "      <th>1</th>\n",
       "      <td>-0.808916</td>\n",
       "      <td>-2.856376</td>\n",
       "    </tr>\n",
       "    <tr>\n",
       "      <th>2</th>\n",
       "      <td>-0.447227</td>\n",
       "      <td>-2.923008</td>\n",
       "    </tr>\n",
       "    <tr>\n",
       "      <th>3</th>\n",
       "      <td>-0.391425</td>\n",
       "      <td>-2.916483</td>\n",
       "    </tr>\n",
       "    <tr>\n",
       "      <th>4</th>\n",
       "      <td>-0.560210</td>\n",
       "      <td>-2.918995</td>\n",
       "    </tr>\n",
       "    <tr>\n",
       "      <th>...</th>\n",
       "      <td>...</td>\n",
       "      <td>...</td>\n",
       "    </tr>\n",
       "    <tr>\n",
       "      <th>95</th>\n",
       "      <td>-0.565734</td>\n",
       "      <td>-2.912819</td>\n",
       "    </tr>\n",
       "    <tr>\n",
       "      <th>96</th>\n",
       "      <td>-0.568994</td>\n",
       "      <td>-2.907903</td>\n",
       "    </tr>\n",
       "    <tr>\n",
       "      <th>97</th>\n",
       "      <td>-0.587542</td>\n",
       "      <td>-2.899967</td>\n",
       "    </tr>\n",
       "    <tr>\n",
       "      <th>98</th>\n",
       "      <td>-0.759047</td>\n",
       "      <td>-2.924381</td>\n",
       "    </tr>\n",
       "    <tr>\n",
       "      <th>99</th>\n",
       "      <td>-0.053634</td>\n",
       "      <td>-2.902726</td>\n",
       "    </tr>\n",
       "  </tbody>\n",
       "</table>\n",
       "<p>100 rows × 2 columns</p>\n",
       "</div>"
      ],
      "text/plain": [
       "      Altura   Riqueza\n",
       "0  -0.553617 -2.926278\n",
       "1  -0.808916 -2.856376\n",
       "2  -0.447227 -2.923008\n",
       "3  -0.391425 -2.916483\n",
       "4  -0.560210 -2.918995\n",
       "..       ...       ...\n",
       "95 -0.565734 -2.912819\n",
       "96 -0.568994 -2.907903\n",
       "97 -0.587542 -2.899967\n",
       "98 -0.759047 -2.924381\n",
       "99 -0.053634 -2.902726\n",
       "\n",
       "[100 rows x 2 columns]"
      ]
     },
     "execution_count": 70,
     "metadata": {},
     "output_type": "execute_result"
    }
   ],
   "source": [
    "data=pd.DataFrame()\n",
    "data[\"Altura\"]=(TrinidadAltura(100)-TrinidadAltura(100).max())/(TrinidadAltura(100).max()-TrinidadAltura(100).min())\n",
    "data[\"Riqueza\"]=(TrinidadRiqueza(100)-TrinidadRiqueza(100).max())/(TrinidadRiqueza(100).max()-TrinidadRiqueza(100).min())\n",
    "data"
   ]
  },
  {
   "cell_type": "code",
   "execution_count": 71,
   "id": "78e5b0b2-2fd4-4a07-a0e8-4a726b684c8a",
   "metadata": {},
   "outputs": [
    {
     "data": {
      "image/png": "[encoded data removed]",
      "text/plain": [
       "<Figure size 576x432 with 1 Axes>"
      ]
     },
     "metadata": {
      "needs_background": "light"
     },
     "output_type": "display_data"
    }
   ],
   "source": [
    "plt.figure(figsize=(8,6))\n",
    "plt.scatter(data[\"Altura\"],data[\"Riqueza\"])\n",
    "plt.show()"
   ]
  },
  {
   "cell_type": "code",
   "execution_count": 59,
   "id": "9e3d8b62-7b47-4a8b-96fb-296a58df7afe",
   "metadata": {},
   "outputs": [],
   "source": [
    "def Ginibre(N1,N2):\n",
    "    return np.random.normal(size=(N1,N2))+np.random.exponential(size=(N1,N2))*1#j"
   ]
  },
  {
   "cell_type": "code",
   "execution_count": 60,
   "id": "eff29001-7daf-44f1-a68d-03953755f5af",
   "metadata": {},
   "outputs": [],
   "source": [
    "data2=pd.DataFrame(Ginibre(200,5),columns=range(5))"
   ]
  },
  {
   "cell_type": "code",
   "execution_count": 61,
   "id": "6761fc48-a3d0-45c6-82d3-44e5b4b7e46c",
   "metadata": {},
   "outputs": [
    {
     "data": {
      "image/png": "[encoded data removed]",
      "text/plain": [
       "<Figure size 576x432 with 1 Axes>"
      ]
     },
     "metadata": {
      "needs_background": "light"
     },
     "output_type": "display_data"
    }
   ],
   "source": [
    "plt.figure(figsize=(8,6))\n",
    "plt.scatter(data2[0],data2[1])\n",
    "plt.show()"
   ]
  },
  {
   "cell_type": "code",
   "execution_count": 62,
   "id": "7e0d67d2-b622-45d9-8d3a-4e8961004d99",
   "metadata": {},
   "outputs": [
    {
     "data": {
      "text/html": [
       "<div>\n",
       "<style scoped>\n",
       "    .dataframe tbody tr th:only-of-type {\n",
       "        vertical-align: middle;\n",
       "    }\n",
       "\n",
       "    .dataframe tbody tr th {\n",
       "        vertical-align: top;\n",
       "    }\n",
       "\n",
       "    .dataframe thead th {\n",
       "        text-align: right;\n",
       "    }\n",
       "</style>\n",
       "<table border=\"1\" class=\"dataframe\">\n",
       "  <thead>\n",
       "    <tr style=\"text-align: right;\">\n",
       "      <th></th>\n",
       "      <th>0</th>\n",
       "      <th>1</th>\n",
       "      <th>2</th>\n",
       "      <th>3</th>\n",
       "      <th>4</th>\n",
       "    </tr>\n",
       "  </thead>\n",
       "  <tbody>\n",
       "    <tr>\n",
       "      <th>0</th>\n",
       "      <td>4.108331</td>\n",
       "      <td>-0.158956</td>\n",
       "      <td>0.005091</td>\n",
       "      <td>0.203668</td>\n",
       "      <td>0.459868</td>\n",
       "    </tr>\n",
       "    <tr>\n",
       "      <th>1</th>\n",
       "      <td>0.335220</td>\n",
       "      <td>1.684463</td>\n",
       "      <td>2.307270</td>\n",
       "      <td>1.548128</td>\n",
       "      <td>1.642337</td>\n",
       "    </tr>\n",
       "    <tr>\n",
       "      <th>2</th>\n",
       "      <td>-0.695083</td>\n",
       "      <td>0.764075</td>\n",
       "      <td>3.043989</td>\n",
       "      <td>0.835312</td>\n",
       "      <td>1.059293</td>\n",
       "    </tr>\n",
       "    <tr>\n",
       "      <th>3</th>\n",
       "      <td>0.598892</td>\n",
       "      <td>0.548692</td>\n",
       "      <td>2.980766</td>\n",
       "      <td>2.043161</td>\n",
       "      <td>-0.314506</td>\n",
       "    </tr>\n",
       "    <tr>\n",
       "      <th>4</th>\n",
       "      <td>0.082626</td>\n",
       "      <td>0.270823</td>\n",
       "      <td>0.450173</td>\n",
       "      <td>0.396531</td>\n",
       "      <td>3.529902</td>\n",
       "    </tr>\n",
       "    <tr>\n",
       "      <th>...</th>\n",
       "      <td>...</td>\n",
       "      <td>...</td>\n",
       "      <td>...</td>\n",
       "      <td>...</td>\n",
       "      <td>...</td>\n",
       "    </tr>\n",
       "    <tr>\n",
       "      <th>195</th>\n",
       "      <td>1.298435</td>\n",
       "      <td>-2.245559</td>\n",
       "      <td>-0.738071</td>\n",
       "      <td>-1.187005</td>\n",
       "      <td>1.305827</td>\n",
       "    </tr>\n",
       "    <tr>\n",
       "      <th>196</th>\n",
       "      <td>4.718364</td>\n",
       "      <td>0.983153</td>\n",
       "      <td>3.214061</td>\n",
       "      <td>-2.313640</td>\n",
       "      <td>2.574189</td>\n",
       "    </tr>\n",
       "    <tr>\n",
       "      <th>197</th>\n",
       "      <td>1.516714</td>\n",
       "      <td>1.189694</td>\n",
       "      <td>-1.374863</td>\n",
       "      <td>3.788219</td>\n",
       "      <td>2.874043</td>\n",
       "    </tr>\n",
       "    <tr>\n",
       "      <th>198</th>\n",
       "      <td>1.893861</td>\n",
       "      <td>1.478316</td>\n",
       "      <td>0.425791</td>\n",
       "      <td>1.685572</td>\n",
       "      <td>2.858353</td>\n",
       "    </tr>\n",
       "    <tr>\n",
       "      <th>199</th>\n",
       "      <td>0.566166</td>\n",
       "      <td>2.065534</td>\n",
       "      <td>0.675254</td>\n",
       "      <td>1.109710</td>\n",
       "      <td>1.239736</td>\n",
       "    </tr>\n",
       "  </tbody>\n",
       "</table>\n",
       "<p>200 rows × 5 columns</p>\n",
       "</div>"
      ],
      "text/plain": [
       "            0         1         2         3         4\n",
       "0    4.108331 -0.158956  0.005091  0.203668  0.459868\n",
       "1    0.335220  1.684463  2.307270  1.548128  1.642337\n",
       "2   -0.695083  0.764075  3.043989  0.835312  1.059293\n",
       "3    0.598892  0.548692  2.980766  2.043161 -0.314506\n",
       "4    0.082626  0.270823  0.450173  0.396531  3.529902\n",
       "..        ...       ...       ...       ...       ...\n",
       "195  1.298435 -2.245559 -0.738071 -1.187005  1.305827\n",
       "196  4.718364  0.983153  3.214061 -2.313640  2.574189\n",
       "197  1.516714  1.189694 -1.374863  3.788219  2.874043\n",
       "198  1.893861  1.478316  0.425791  1.685572  2.858353\n",
       "199  0.566166  2.065534  0.675254  1.109710  1.239736\n",
       "\n",
       "[200 rows x 5 columns]"
      ]
     },
     "execution_count": 62,
     "metadata": {},
     "output_type": "execute_result"
    }
   ],
   "source": [
    "data2"
   ]
  },
  {
   "cell_type": "code",
   "execution_count": null,
   "id": "c3339dac-e8db-4f30-90d4-beea1eebceb5",
   "metadata": {},
   "outputs": [],
   "source": []
  }
 ],
 "metadata": {
  "kernelspec": {
   "display_name": "Python 3 (ipykernel)",
   "language": "python",
   "name": "python3"
  },
  "language_info": {
   "codemirror_mode": {
    "name": "ipython",
    "version": 3
   },
   "file_extension": ".py",
   "mimetype": "text/x-python",
   "name": "python",
   "nbconvert_exporter": "python",
   "pygments_lexer": "ipython3",
   "version": "3.10.4"
  }
 },
 "nbformat": 4,
 "nbformat_minor": 5
}
